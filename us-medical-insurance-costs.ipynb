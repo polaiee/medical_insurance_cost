{
 "cells": [
  {
   "cell_type": "markdown",
   "metadata": {},
   "source": [
    "# U.S. Medical Insurance Costs"
   ]
  },
  {
   "cell_type": "code",
   "execution_count": 1,
   "metadata": {},
   "outputs": [],
   "source": [
    "import csv\n",
    "\n",
    "# import insurance.csv file\n",
    "with open(\"insurance.csv\", newline = \"\") as ins_raw:\n",
    "    ins_dict = csv.DictReader(ins_raw)\n",
    "    \n",
    "    # convert data dictionary rows into column lists\n",
    "    age_list = []\n",
    "    sex_list = []\n",
    "    bmi_list = []\n",
    "    children_list = []\n",
    "    smoker_list = []\n",
    "    region_list = []\n",
    "    charges_list = []\n",
    "    for row in ins_dict:\n",
    "        age_list.append(int(row[\"age\"]))\n",
    "        sex_list.append(row[\"sex\"])\n",
    "        bmi_list.append(float(row[\"bmi\"]))\n",
    "        children_list.append(int(row[\"children\"]))\n",
    "        smoker_list.append(row[\"smoker\"])\n",
    "        region_list.append(row[\"region\"])\n",
    "        charges_list.append(float(row[\"charges\"]))"
   ]
  },
  {
   "cell_type": "markdown",
   "metadata": {},
   "source": [
    "Preliminary Data Investigation and Organization\n"
   ]
  },
  {
   "cell_type": "code",
   "execution_count": 2,
   "metadata": {},
   "outputs": [
    {
     "name": "stdout",
     "output_type": "stream",
     "text": [
      "Average Age: 39.2\n",
      "Number of Males: 676\n",
      "Number of Females: 662\n",
      "Total Individuals: 1338\n"
     ]
    }
   ],
   "source": [
    "# data investigation - determine average age\n",
    "total_age = 0\n",
    "for i in age_list:\n",
    "    total_age += i\n",
    "avg_age = round(total_age / len(age_list),1)\n",
    "print(\"Average Age: \" + str(avg_age))\n",
    "\n",
    "# data investigation - count males. vs females\n",
    "male_count = 0\n",
    "female_count = 0\n",
    "for i in sex_list:\n",
    "    if i == \"male\":\n",
    "        male_count += 1\n",
    "    elif i == \"female\":\n",
    "        female_count += 1\n",
    "total_count = male_count + female_count\n",
    "print(\"Number of Males: \" + str(male_count))\n",
    "print(\"Number of Females: \" + str(female_count))\n",
    "print(\"Total Individuals: \" + str(total_count))"
   ]
  },
  {
   "cell_type": "code",
   "execution_count": 3,
   "metadata": {},
   "outputs": [
    {
     "name": "stdout",
     "output_type": "stream",
     "text": [
      "1338\n"
     ]
    }
   ],
   "source": [
    "# create list of data dictionaries for each row in dataset by combining column lists\n",
    "data_dict_list = []\n",
    "for i in range(len(age_list)):\n",
    "    data_dict_list.append({\"Age\": age_list[i],\n",
    "                           \"Sex\": sex_list[i],\n",
    "                           \"BMI\": bmi_list[i],\n",
    "                           \"Children\": children_list[i],\n",
    "                           \"Smoker\": smoker_list[i],\n",
    "                           \"Region\": region_list[i],\n",
    "                           \"Charges\": charges_list[i]})\n",
    "print(len(data_dict_list))"
   ]
  },
  {
   "cell_type": "markdown",
   "metadata": {},
   "source": [
    "\n",
    "Data Analysis Function Definitions"
   ]
  },
  {
   "cell_type": "code",
   "execution_count": 4,
   "metadata": {},
   "outputs": [],
   "source": [
    "# build out function to automate data analysis - calculate averages\n",
    "def avg_finder(dict_list, num_key):\n",
    "    num_obs = len(dict_list)\n",
    "    total_val = 0\n",
    "    for i in dict_list:\n",
    "        total_val += i[num_key]\n",
    "    avg = total_val / num_obs\n",
    "    return round(avg, 1)"
   ]
  },
  {
   "cell_type": "code",
   "execution_count": 6,
   "metadata": {},
   "outputs": [
    {
     "name": "stdout",
     "output_type": "stream",
     "text": [
      "Avg Age: 39.2\n",
      "Avg BMI: 30.7\n",
      "Avg Children: 1.1\n",
      "Avg Charges: 13270.4\n"
     ]
    }
   ],
   "source": [
    "print(\"Avg Age: \" + str(avg_finder(data_dict_list, \"Age\")))\n",
    "print(\"Avg BMI: \" + str(avg_finder(data_dict_list, \"BMI\")))\n",
    "print(\"Avg Children: \" + str(avg_finder(data_dict_list, \"Children\")))\n",
    "print(\"Avg Charges: \" + str(avg_finder(data_dict_list, \"Charges\")))"
   ]
  },
  {
   "cell_type": "code",
   "execution_count": 7,
   "metadata": {},
   "outputs": [],
   "source": [
    "# build out function to automate data analysis - sort column\n",
    "def sorter(list):\n",
    "    sorted_list = sorted(list)\n",
    "    return sorted_list"
   ]
  },
  {
   "cell_type": "code",
   "execution_count": 8,
   "metadata": {},
   "outputs": [],
   "source": [
    "# build out function to estimate insurance costs\n",
    "def cost_estimator(age, sex, bmi, children, smoker, name):\n",
    "    if sex == \"male\":\n",
    "        sex_input = 1\n",
    "    elif sex == \"female\":\n",
    "        sex_input = 0\n",
    "    if smoker == \"yes\":\n",
    "        smoker_input = 1\n",
    "    elif smoker == \"no\":\n",
    "        smoker_input = 0\n",
    "    est_cost = 250*age - 128*sex_input + 370*bmi + 425*children + 24000*smoker_input - 12500\n",
    "    print(\"The estimated insurance cost for \" + name + \" is $\" + str(est_cost) + \".\")"
   ]
  },
  {
   "cell_type": "code",
   "execution_count": 9,
   "metadata": {},
   "outputs": [
    {
     "name": "stdout",
     "output_type": "stream",
     "text": [
      "The estimated insurance cost for John is $5591.0.\n"
     ]
    }
   ],
   "source": [
    "john_cost_est = cost_estimator(25, \"male\", 31.2, 1, \"no\", \"John\")"
   ]
  },
  {
   "cell_type": "code",
   "execution_count": null,
   "metadata": {},
   "outputs": [],
   "source": []
  }
 ],
 "metadata": {
  "kernelspec": {
   "display_name": "Python 3",
   "language": "python",
   "name": "python3"
  },
  "language_info": {
   "codemirror_mode": {
    "name": "ipython",
    "version": 3
   },
   "file_extension": ".py",
   "mimetype": "text/x-python",
   "name": "python",
   "nbconvert_exporter": "python",
   "pygments_lexer": "ipython3",
   "version": "3.8.5"
  }
 },
 "nbformat": 4,
 "nbformat_minor": 4
}
